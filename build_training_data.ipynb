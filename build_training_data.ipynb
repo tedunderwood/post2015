{
 "cells": [
  {
   "cell_type": "markdown",
   "id": "overall-protein",
   "metadata": {},
   "source": [
    "# Building training data for the new (post2015) model"
   ]
  },
  {
   "cell_type": "code",
   "execution_count": 3,
   "id": "norwegian-tuner",
   "metadata": {},
   "outputs": [],
   "source": [
    "import pandas as pd\n",
    "import numpy as np"
   ]
  },
  {
   "cell_type": "code",
   "execution_count": 4,
   "id": "statewide-final",
   "metadata": {},
   "outputs": [
    {
     "data": {
      "text/html": [
       "<div>\n",
       "<style scoped>\n",
       "    .dataframe tbody tr th:only-of-type {\n",
       "        vertical-align: middle;\n",
       "    }\n",
       "\n",
       "    .dataframe tbody tr th {\n",
       "        vertical-align: top;\n",
       "    }\n",
       "\n",
       "    .dataframe thead th {\n",
       "        text-align: right;\n",
       "    }\n",
       "</style>\n",
       "<table border=\"1\" class=\"dataframe\">\n",
       "  <thead>\n",
       "    <tr style=\"text-align: right;\">\n",
       "      <th></th>\n",
       "      <th>docid</th>\n",
       "      <th>author</th>\n",
       "      <th>realname</th>\n",
       "      <th>pseudonym</th>\n",
       "      <th>gender</th>\n",
       "      <th>nationality</th>\n",
       "      <th>authordate</th>\n",
       "      <th>inferreddate</th>\n",
       "      <th>firstpub</th>\n",
       "      <th>latestcomp</th>\n",
       "      <th>allcopiesofwork</th>\n",
       "      <th>copiesin25yrs</th>\n",
       "      <th>enumcron</th>\n",
       "      <th>imprint</th>\n",
       "      <th>genres</th>\n",
       "      <th>subjects</th>\n",
       "      <th>shorttitle</th>\n",
       "      <th>category</th>\n",
       "      <th>hathiadvent</th>\n",
       "    </tr>\n",
       "  </thead>\n",
       "  <tbody>\n",
       "    <tr>\n",
       "      <th>0</th>\n",
       "      <td>nyp.33433082192877</td>\n",
       "      <td>Sophocles</td>\n",
       "      <td>NaN</td>\n",
       "      <td>NaN</td>\n",
       "      <td>u</td>\n",
       "      <td>NaN</td>\n",
       "      <td>NaN</td>\n",
       "      <td>1851</td>\n",
       "      <td>0</td>\n",
       "      <td>1851</td>\n",
       "      <td>1.0</td>\n",
       "      <td>1.0</td>\n",
       "      <td>NaN</td>\n",
       "      <td>Cambridge [Mass;J. Bartlett;1851.</td>\n",
       "      <td>NaN</td>\n",
       "      <td>NaN</td>\n",
       "      <td>The Aias of Sophocles, with critical and expla...</td>\n",
       "      <td>drama</td>\n",
       "      <td>reprint</td>\n",
       "    </tr>\n",
       "    <tr>\n",
       "      <th>1</th>\n",
       "      <td>mdp.39015011028746</td>\n",
       "      <td>Plutarch</td>\n",
       "      <td>NaN</td>\n",
       "      <td>NaN</td>\n",
       "      <td>m</td>\n",
       "      <td>NaN</td>\n",
       "      <td>NaN</td>\n",
       "      <td>1932</td>\n",
       "      <td>125</td>\n",
       "      <td>1932</td>\n",
       "      <td>1.0</td>\n",
       "      <td>1.0</td>\n",
       "      <td>NaN</td>\n",
       "      <td>Oxford|The Clarendon press|1932</td>\n",
       "      <td>NaN</td>\n",
       "      <td>Sources|1564-1616|Shakespeare, William</td>\n",
       "      <td>Plutarch's lives of Coriolanus, Caesar, Brutus...</td>\n",
       "      <td>shortfiction</td>\n",
       "      <td>reprint</td>\n",
       "    </tr>\n",
       "    <tr>\n",
       "      <th>2</th>\n",
       "      <td>inu.30000055877900</td>\n",
       "      <td>Wace</td>\n",
       "      <td>NaN</td>\n",
       "      <td>NaN</td>\n",
       "      <td>u</td>\n",
       "      <td>NaN</td>\n",
       "      <td>ca. 1100-ca. 1175.</td>\n",
       "      <td>1937</td>\n",
       "      <td>1175</td>\n",
       "      <td>1937</td>\n",
       "      <td>1.0</td>\n",
       "      <td>1.0</td>\n",
       "      <td>NaN</td>\n",
       "      <td>London|J. M. Dent &amp; sons, ltd.|New York|E. P. ...</td>\n",
       "      <td>Bibliographies</td>\n",
       "      <td>Arthurian romances|Romances|Translations into ...</td>\n",
       "      <td>Arthurian chronicles</td>\n",
       "      <td>poetry</td>\n",
       "      <td>reprint</td>\n",
       "    </tr>\n",
       "    <tr>\n",
       "      <th>3</th>\n",
       "      <td>mdp.39015030126505</td>\n",
       "      <td>Roscoe, Thomas (trans.)</td>\n",
       "      <td>NaN</td>\n",
       "      <td>NaN</td>\n",
       "      <td>m</td>\n",
       "      <td>uk</td>\n",
       "      <td>1791-1871.</td>\n",
       "      <td>1826</td>\n",
       "      <td>1200</td>\n",
       "      <td>1826</td>\n",
       "      <td>1.0</td>\n",
       "      <td>1.0</td>\n",
       "      <td>v.1</td>\n",
       "      <td>London;H. Colburn;1826.</td>\n",
       "      <td>NaN</td>\n",
       "      <td>NaN</td>\n",
       "      <td>Introduction. Reineke Fuchs (Reynard the Fox) ...</td>\n",
       "      <td>shortfiction</td>\n",
       "      <td>reprint</td>\n",
       "    </tr>\n",
       "    <tr>\n",
       "      <th>4</th>\n",
       "      <td>mdp.39015005144137</td>\n",
       "      <td>von Strassburg, Gottfried</td>\n",
       "      <td>NaN</td>\n",
       "      <td>NaN</td>\n",
       "      <td>u</td>\n",
       "      <td>NaN</td>\n",
       "      <td>d. 1210</td>\n",
       "      <td>1960</td>\n",
       "      <td>1210</td>\n",
       "      <td>1960</td>\n",
       "      <td>1.0</td>\n",
       "      <td>1.0</td>\n",
       "      <td>NaN</td>\n",
       "      <td>Baltimore|Penguin Books|1960</td>\n",
       "      <td>NaN</td>\n",
       "      <td>Tristan|(Anglo-Norman poet)|Thomas</td>\n",
       "      <td>Tristan</td>\n",
       "      <td>poetry</td>\n",
       "      <td>reprint</td>\n",
       "    </tr>\n",
       "  </tbody>\n",
       "</table>\n",
       "</div>"
      ],
      "text/plain": [
       "                docid                     author realname pseudonym gender  \\\n",
       "0  nyp.33433082192877                  Sophocles      NaN       NaN      u   \n",
       "1  mdp.39015011028746                   Plutarch      NaN       NaN      m   \n",
       "2  inu.30000055877900                       Wace      NaN       NaN      u   \n",
       "3  mdp.39015030126505    Roscoe, Thomas (trans.)      NaN       NaN      m   \n",
       "4  mdp.39015005144137  von Strassburg, Gottfried      NaN       NaN      u   \n",
       "\n",
       "  nationality          authordate  inferreddate  firstpub  latestcomp  \\\n",
       "0         NaN                 NaN          1851         0        1851   \n",
       "1         NaN                 NaN          1932       125        1932   \n",
       "2         NaN  ca. 1100-ca. 1175.          1937      1175        1937   \n",
       "3          uk          1791-1871.          1826      1200        1826   \n",
       "4         NaN             d. 1210          1960      1210        1960   \n",
       "\n",
       "   allcopiesofwork  copiesin25yrs enumcron  \\\n",
       "0              1.0            1.0      NaN   \n",
       "1              1.0            1.0      NaN   \n",
       "2              1.0            1.0      NaN   \n",
       "3              1.0            1.0      v.1   \n",
       "4              1.0            1.0      NaN   \n",
       "\n",
       "                                             imprint          genres  \\\n",
       "0                  Cambridge [Mass;J. Bartlett;1851.             NaN   \n",
       "1                    Oxford|The Clarendon press|1932             NaN   \n",
       "2  London|J. M. Dent & sons, ltd.|New York|E. P. ...  Bibliographies   \n",
       "3                            London;H. Colburn;1826.             NaN   \n",
       "4                       Baltimore|Penguin Books|1960             NaN   \n",
       "\n",
       "                                            subjects  \\\n",
       "0                                                NaN   \n",
       "1             Sources|1564-1616|Shakespeare, William   \n",
       "2  Arthurian romances|Romances|Translations into ...   \n",
       "3                                                NaN   \n",
       "4                 Tristan|(Anglo-Norman poet)|Thomas   \n",
       "\n",
       "                                          shorttitle      category hathiadvent  \n",
       "0  The Aias of Sophocles, with critical and expla...         drama     reprint  \n",
       "1  Plutarch's lives of Coriolanus, Caesar, Brutus...  shortfiction     reprint  \n",
       "2                               Arthurian chronicles        poetry     reprint  \n",
       "3  Introduction. Reineke Fuchs (Reynard the Fox) ...  shortfiction     reprint  \n",
       "4                                            Tristan        poetry     reprint  "
      ]
     },
     "execution_count": 4,
     "metadata": {},
     "output_type": "execute_result"
    }
   ],
   "source": [
    "fiction = pd.read_csv('../noveltmmeta/metadata/manual_title_subset.tsv',\n",
    "                     sep ='\\t', low_memory = False)\n",
    "fiction.head()"
   ]
  },
  {
   "cell_type": "code",
   "execution_count": 6,
   "id": "lesbian-event",
   "metadata": {},
   "outputs": [
    {
     "data": {
      "text/plain": [
       "(2730, 19)"
      ]
     },
     "execution_count": 6,
     "metadata": {},
     "output_type": "execute_result"
    }
   ],
   "source": [
    "fiction.shape"
   ]
  },
  {
   "cell_type": "code",
   "execution_count": 10,
   "id": "imported-armstrong",
   "metadata": {},
   "outputs": [
    {
     "data": {
      "text/plain": [
       "4"
      ]
     },
     "execution_count": 10,
     "metadata": {},
     "output_type": "execute_result"
    }
   ],
   "source": [
    "sum(fiction.latestcomp < 1800)"
   ]
  },
  {
   "cell_type": "code",
   "execution_count": 8,
   "id": "local-assignment",
   "metadata": {},
   "outputs": [
    {
     "data": {
      "text/html": [
       "<div>\n",
       "<style scoped>\n",
       "    .dataframe tbody tr th:only-of-type {\n",
       "        vertical-align: middle;\n",
       "    }\n",
       "\n",
       "    .dataframe tbody tr th {\n",
       "        vertical-align: top;\n",
       "    }\n",
       "\n",
       "    .dataframe thead th {\n",
       "        text-align: right;\n",
       "    }\n",
       "</style>\n",
       "<table border=\"1\" class=\"dataframe\">\n",
       "  <thead>\n",
       "    <tr style=\"text-align: right;\">\n",
       "      <th></th>\n",
       "      <th>htid</th>\n",
       "      <th>recordid</th>\n",
       "      <th>oclc</th>\n",
       "      <th>locnum</th>\n",
       "      <th>author</th>\n",
       "      <th>imprint</th>\n",
       "      <th>datetype</th>\n",
       "      <th>startdate</th>\n",
       "      <th>enddate</th>\n",
       "      <th>imprintdate</th>\n",
       "      <th>place</th>\n",
       "      <th>enumcron</th>\n",
       "      <th>subjects</th>\n",
       "      <th>title</th>\n",
       "    </tr>\n",
       "  </thead>\n",
       "  <tbody>\n",
       "    <tr>\n",
       "      <th>0</th>\n",
       "      <td>chi.086332362</td>\n",
       "      <td>8599335</td>\n",
       "      <td>6618467</td>\n",
       "      <td>NaN</td>\n",
       "      <td>NaN</td>\n",
       "      <td>London;Printed by J. Lister;1765.</td>\n",
       "      <td>s</td>\n",
       "      <td>1765</td>\n",
       "      <td></td>\n",
       "      <td>1765</td>\n",
       "      <td>enk</td>\n",
       "      <td>c.1</td>\n",
       "      <td>Europe;Early works to 1800;Agriculture</td>\n",
       "      <td>Foreign essays on agriculture and arts</td>\n",
       "    </tr>\n",
       "    <tr>\n",
       "      <th>1</th>\n",
       "      <td>chi.086333415</td>\n",
       "      <td>9895483</td>\n",
       "      <td>6312484</td>\n",
       "      <td>NaN</td>\n",
       "      <td>Comber, Thomas,</td>\n",
       "      <td>London;Printed for W. Nicoll;1772.</td>\n",
       "      <td>s</td>\n",
       "      <td>1772</td>\n",
       "      <td></td>\n",
       "      <td>1772</td>\n",
       "      <td>enk</td>\n",
       "      <td>c.1</td>\n",
       "      <td>England;Agriculture</td>\n",
       "      <td>Real improvements in agriculture</td>\n",
       "    </tr>\n",
       "    <tr>\n",
       "      <th>2</th>\n",
       "      <td>chi.086333431</td>\n",
       "      <td>9895485</td>\n",
       "      <td>23853418</td>\n",
       "      <td>NaN</td>\n",
       "      <td>Marshall, William</td>\n",
       "      <td>London;Printed for J. Dodsley;1783.</td>\n",
       "      <td>s</td>\n",
       "      <td>1783</td>\n",
       "      <td></td>\n",
       "      <td>1783</td>\n",
       "      <td>enk</td>\n",
       "      <td>c.1</td>\n",
       "      <td>Early works to 1800;Agriculture</td>\n",
       "      <td>Minutes of agriculture;</td>\n",
       "    </tr>\n",
       "    <tr>\n",
       "      <th>3</th>\n",
       "      <td>chi.086333449</td>\n",
       "      <td>9895486</td>\n",
       "      <td>7891244</td>\n",
       "      <td>NaN</td>\n",
       "      <td>Peters, Matthew.</td>\n",
       "      <td>London;Printed for W. Flexney;1771.</td>\n",
       "      <td>s</td>\n",
       "      <td>1771</td>\n",
       "      <td></td>\n",
       "      <td>1771</td>\n",
       "      <td>enk</td>\n",
       "      <td>c.1</td>\n",
       "      <td>Agriculture</td>\n",
       "      <td>The rational farmer: or A treatise on agricult...</td>\n",
       "    </tr>\n",
       "    <tr>\n",
       "      <th>4</th>\n",
       "      <td>chi.086333457</td>\n",
       "      <td>9895487</td>\n",
       "      <td>7890994</td>\n",
       "      <td>NaN</td>\n",
       "      <td>Trusler, John,</td>\n",
       "      <td>London;Printed for the author; and sold by R. ...</td>\n",
       "      <td>s</td>\n",
       "      <td>1780</td>\n",
       "      <td></td>\n",
       "      <td>1780</td>\n",
       "      <td>enk</td>\n",
       "      <td>c.1</td>\n",
       "      <td>Agriculture</td>\n",
       "      <td>Practical husbandry, or, The art of farming, w...</td>\n",
       "    </tr>\n",
       "  </tbody>\n",
       "</table>\n",
       "</div>"
      ],
      "text/plain": [
       "            htid  recordid      oclc locnum             author  \\\n",
       "0  chi.086332362   8599335   6618467    NaN                NaN   \n",
       "1  chi.086333415   9895483   6312484    NaN    Comber, Thomas,   \n",
       "2  chi.086333431   9895485  23853418    NaN  Marshall, William   \n",
       "3  chi.086333449   9895486   7891244    NaN   Peters, Matthew.   \n",
       "4  chi.086333457   9895487   7890994    NaN     Trusler, John,   \n",
       "\n",
       "                                             imprint datetype startdate  \\\n",
       "0                  London;Printed by J. Lister;1765.        s      1765   \n",
       "1                 London;Printed for W. Nicoll;1772.        s      1772   \n",
       "2                London;Printed for J. Dodsley;1783.        s      1783   \n",
       "3                London;Printed for W. Flexney;1771.        s      1771   \n",
       "4  London;Printed for the author; and sold by R. ...        s      1780   \n",
       "\n",
       "  enddate imprintdate place enumcron                                subjects  \\\n",
       "0                1765   enk      c.1  Europe;Early works to 1800;Agriculture   \n",
       "1                1772   enk      c.1                     England;Agriculture   \n",
       "2                1783   enk      c.1         Early works to 1800;Agriculture   \n",
       "3                1771   enk      c.1                             Agriculture   \n",
       "4                1780   enk      c.1                             Agriculture   \n",
       "\n",
       "                                               title  \n",
       "0             Foreign essays on agriculture and arts  \n",
       "1                   Real improvements in agriculture  \n",
       "2                            Minutes of agriculture;  \n",
       "3  The rational farmer: or A treatise on agricult...  \n",
       "4  Practical husbandry, or, The art of farming, w...  "
      ]
     },
     "execution_count": 8,
     "metadata": {},
     "output_type": "execute_result"
    }
   ],
   "source": [
    "pre1923 = pd.read_csv('/Users/tunder/work/genre/metadata/allmeta.csv', low_memory = False)\n",
    "pre1923.head()"
   ]
  },
  {
   "cell_type": "code",
   "execution_count": 12,
   "id": "configured-vacuum",
   "metadata": {},
   "outputs": [],
   "source": [
    "allfic = pd.read_csv('../noveltmmeta/metadata/volumemeta.tsv', sep = '\\t', low_memory = False)"
   ]
  },
  {
   "cell_type": "code",
   "execution_count": 13,
   "id": "accessible-norway",
   "metadata": {},
   "outputs": [
    {
     "data": {
      "text/html": [
       "<div>\n",
       "<style scoped>\n",
       "    .dataframe tbody tr th:only-of-type {\n",
       "        vertical-align: middle;\n",
       "    }\n",
       "\n",
       "    .dataframe tbody tr th {\n",
       "        vertical-align: top;\n",
       "    }\n",
       "\n",
       "    .dataframe thead th {\n",
       "        text-align: right;\n",
       "    }\n",
       "</style>\n",
       "<table border=\"1\" class=\"dataframe\">\n",
       "  <thead>\n",
       "    <tr style=\"text-align: right;\">\n",
       "      <th></th>\n",
       "      <th>docid</th>\n",
       "      <th>oldauthor</th>\n",
       "      <th>author</th>\n",
       "      <th>authordate</th>\n",
       "      <th>inferreddate</th>\n",
       "      <th>latestcomp</th>\n",
       "      <th>datetype</th>\n",
       "      <th>startdate</th>\n",
       "      <th>enddate</th>\n",
       "      <th>imprint</th>\n",
       "      <th>...</th>\n",
       "      <th>geographics</th>\n",
       "      <th>locnum</th>\n",
       "      <th>oclc</th>\n",
       "      <th>place</th>\n",
       "      <th>recordid</th>\n",
       "      <th>enumcron</th>\n",
       "      <th>volnum</th>\n",
       "      <th>title</th>\n",
       "      <th>parttitle</th>\n",
       "      <th>shorttitle</th>\n",
       "    </tr>\n",
       "  </thead>\n",
       "  <tbody>\n",
       "    <tr>\n",
       "      <th>0</th>\n",
       "      <td>mdp.39015000694151</td>\n",
       "      <td>Ruland, Wilhelm</td>\n",
       "      <td>Ruland, Wilhelm</td>\n",
       "      <td>1869-1927.</td>\n",
       "      <td>NaN</td>\n",
       "      <td>1927.0</td>\n",
       "      <td>|</td>\n",
       "      <td>||||</td>\n",
       "      <td>||||</td>\n",
       "      <td>Bonn|Hoursch &amp; Bechstedt|n.d</td>\n",
       "      <td>...</td>\n",
       "      <td>NaN</td>\n",
       "      <td>NaN</td>\n",
       "      <td>199567.0</td>\n",
       "      <td>|||</td>\n",
       "      <td>5047</td>\n",
       "      <td>NaN</td>\n",
       "      <td>NaN</td>\n",
       "      <td>The finest legends of the Rhine | $c: by Wilhe...</td>\n",
       "      <td>NaN</td>\n",
       "      <td>The finest legends of the Rhine</td>\n",
       "    </tr>\n",
       "    <tr>\n",
       "      <th>1</th>\n",
       "      <td>mdp.39015031913893</td>\n",
       "      <td>Spencer, Louise Reid</td>\n",
       "      <td>Spencer, Louise Reid</td>\n",
       "      <td>NaN</td>\n",
       "      <td>NaN</td>\n",
       "      <td>NaN</td>\n",
       "      <td>|</td>\n",
       "      <td>||||</td>\n",
       "      <td>||||</td>\n",
       "      <td>Thomas Y. Crowell company|1945</td>\n",
       "      <td>...</td>\n",
       "      <td>NaN</td>\n",
       "      <td>D811.5.S681</td>\n",
       "      <td>630823.0</td>\n",
       "      <td>|||</td>\n",
       "      <td>8744</td>\n",
       "      <td>NaN</td>\n",
       "      <td>NaN</td>\n",
       "      <td>Guerrilla wife | $c: [by] Louise Reid Spencer.</td>\n",
       "      <td>NaN</td>\n",
       "      <td>Guerrilla wife</td>\n",
       "    </tr>\n",
       "    <tr>\n",
       "      <th>2</th>\n",
       "      <td>mdp.39015018624927</td>\n",
       "      <td>Brown, Christy</td>\n",
       "      <td>Brown, Christy</td>\n",
       "      <td>1932-</td>\n",
       "      <td>NaN</td>\n",
       "      <td>NaN</td>\n",
       "      <td>|</td>\n",
       "      <td>||||</td>\n",
       "      <td>||||</td>\n",
       "      <td>London, Secker &amp; Warburg [1974</td>\n",
       "      <td>...</td>\n",
       "      <td>NaN</td>\n",
       "      <td>NaN</td>\n",
       "      <td>1539638.0</td>\n",
       "      <td>|||</td>\n",
       "      <td>22734</td>\n",
       "      <td>NaN</td>\n",
       "      <td>NaN</td>\n",
       "      <td>A shadow on summer.</td>\n",
       "      <td>NaN</td>\n",
       "      <td>A shadow on summer</td>\n",
       "    </tr>\n",
       "    <tr>\n",
       "      <th>3</th>\n",
       "      <td>mdp.39015003936864</td>\n",
       "      <td>Baker, Robert H</td>\n",
       "      <td>Baker, Robert H</td>\n",
       "      <td>NaN</td>\n",
       "      <td>NaN</td>\n",
       "      <td>NaN</td>\n",
       "      <td>n</td>\n",
       "      <td></td>\n",
       "      <td></td>\n",
       "      <td>Port Washington, N.Y.|Ashley Books|197-?].</td>\n",
       "      <td>...</td>\n",
       "      <td>NaN</td>\n",
       "      <td>NaN</td>\n",
       "      <td>5825504.0</td>\n",
       "      <td>nyu</td>\n",
       "      <td>39757</td>\n",
       "      <td>NaN</td>\n",
       "      <td>NaN</td>\n",
       "      <td>The suburbs : | a novel / | $c: by Robert H. B...</td>\n",
       "      <td>NaN</td>\n",
       "      <td>The suburbs : a novel</td>\n",
       "    </tr>\n",
       "    <tr>\n",
       "      <th>4</th>\n",
       "      <td>mdp.39015039740108</td>\n",
       "      <td>Benson, E. F. (Edward Frederic)</td>\n",
       "      <td>Benson, E. F. (Edward Frederic)</td>\n",
       "      <td>1867-1940.</td>\n",
       "      <td>NaN</td>\n",
       "      <td>1940.0</td>\n",
       "      <td>n</td>\n",
       "      <td></td>\n",
       "      <td></td>\n",
       "      <td>New York|Optimus printing co.|n.d.</td>\n",
       "      <td>...</td>\n",
       "      <td>NaN</td>\n",
       "      <td>NaN</td>\n",
       "      <td>24306660.0</td>\n",
       "      <td>nyu</td>\n",
       "      <td>114781</td>\n",
       "      <td>NaN</td>\n",
       "      <td>NaN</td>\n",
       "      <td>Dodo. | A detail of the day. | $c: By E. F. Be...</td>\n",
       "      <td>NaN</td>\n",
       "      <td>Dodo. A detail of the day</td>\n",
       "    </tr>\n",
       "  </tbody>\n",
       "</table>\n",
       "<p>5 rows × 24 columns</p>\n",
       "</div>"
      ],
      "text/plain": [
       "                docid                        oldauthor  \\\n",
       "0  mdp.39015000694151                  Ruland, Wilhelm   \n",
       "1  mdp.39015031913893             Spencer, Louise Reid   \n",
       "2  mdp.39015018624927                   Brown, Christy   \n",
       "3  mdp.39015003936864                  Baker, Robert H   \n",
       "4  mdp.39015039740108  Benson, E. F. (Edward Frederic)   \n",
       "\n",
       "                            author  authordate  inferreddate  latestcomp  \\\n",
       "0                  Ruland, Wilhelm  1869-1927.           NaN      1927.0   \n",
       "1             Spencer, Louise Reid         NaN           NaN         NaN   \n",
       "2                   Brown, Christy       1932-           NaN         NaN   \n",
       "3                  Baker, Robert H         NaN           NaN         NaN   \n",
       "4  Benson, E. F. (Edward Frederic)  1867-1940.           NaN      1940.0   \n",
       "\n",
       "  datetype startdate enddate                                     imprint  ...  \\\n",
       "0        |      ||||    ||||                Bonn|Hoursch & Bechstedt|n.d  ...   \n",
       "1        |      ||||    ||||              Thomas Y. Crowell company|1945  ...   \n",
       "2        |      ||||    ||||              London, Secker & Warburg [1974  ...   \n",
       "3        n                    Port Washington, N.Y.|Ashley Books|197-?].  ...   \n",
       "4        n                            New York|Optimus printing co.|n.d.  ...   \n",
       "\n",
       "  geographics       locnum        oclc place recordid enumcron volnum  \\\n",
       "0         NaN          NaN    199567.0   |||     5047      NaN    NaN   \n",
       "1         NaN  D811.5.S681    630823.0   |||     8744      NaN    NaN   \n",
       "2         NaN          NaN   1539638.0   |||    22734      NaN    NaN   \n",
       "3         NaN          NaN   5825504.0   nyu    39757      NaN    NaN   \n",
       "4         NaN          NaN  24306660.0   nyu   114781      NaN    NaN   \n",
       "\n",
       "                                               title  parttitle  \\\n",
       "0  The finest legends of the Rhine | $c: by Wilhe...        NaN   \n",
       "1     Guerrilla wife | $c: [by] Louise Reid Spencer.        NaN   \n",
       "2                                A shadow on summer.        NaN   \n",
       "3  The suburbs : | a novel / | $c: by Robert H. B...        NaN   \n",
       "4  Dodo. | A detail of the day. | $c: By E. F. Be...        NaN   \n",
       "\n",
       "                        shorttitle  \n",
       "0  The finest legends of the Rhine  \n",
       "1                   Guerrilla wife  \n",
       "2               A shadow on summer  \n",
       "3            The suburbs : a novel  \n",
       "4        Dodo. A detail of the day  \n",
       "\n",
       "[5 rows x 24 columns]"
      ]
     },
     "execution_count": 13,
     "metadata": {},
     "output_type": "execute_result"
    }
   ],
   "source": [
    "allfic.head()"
   ]
  },
  {
   "cell_type": "code",
   "execution_count": 18,
   "id": "studied-cologne",
   "metadata": {},
   "outputs": [],
   "source": [
    "def integerize(adate):\n",
    "    try:\n",
    "        return int(adate)\n",
    "    except:\n",
    "        return 0\n",
    "\n",
    "pre1923['intdate'] = pre1923.imprintdate.map(integerize)"
   ]
  },
  {
   "cell_type": "code",
   "execution_count": 44,
   "id": "administrative-oregon",
   "metadata": {},
   "outputs": [
    {
     "name": "stdout",
     "output_type": "stream",
     "text": [
      "1800 939 9855 0.0953\n",
      "1810 1333 13490 0.0988\n",
      "1820 2793 21101 0.1324\n",
      "1830 3551 27587 0.1287\n",
      "1840 3406 29414 0.1158\n",
      "1850 4807 35238 0.1364\n",
      "1860 4736 36724 0.129\n",
      "1870 5661 43199 0.131\n",
      "1880 9096 65888 0.1381\n",
      "1890 18010 96529 0.1866\n",
      "1900 22551 148160 0.1522\n",
      "1910 19338 175025 0.1105\n"
     ]
    }
   ],
   "source": [
    "decademultiples = []\n",
    "\n",
    "for decade in range(1800, 1920, 10):\n",
    "    ficcount = len(allfic.loc[(allfic.inferreddate >= decade) & (allfic.inferreddate < decade + 10), : ])\n",
    "    allcount = len(pre1923.loc[(pre1923.intdate >= decade) & (pre1923.intdate < decade + 10), : ])\n",
    "    \n",
    "    print(decade, ficcount, allcount, round(ficcount/allcount, 4))\n",
    "    \n",
    "    multiple = (1 - ficcount/allcount) / (ficcount/allcount) \n",
    "    decademultiples.append((decade, round(multiple, 2)))\n",
    "\n",
    "decademultiples.append((1920, 8.0))\n",
    "    "
   ]
  },
  {
   "cell_type": "code",
   "execution_count": 27,
   "id": "infrared-lambda",
   "metadata": {},
   "outputs": [
    {
     "name": "stderr",
     "output_type": "stream",
     "text": [
      "b'Skipping line 15610: expected 20 fields, saw 21\\nSkipping line 657142: expected 20 fields, saw 28\\nSkipping line 1107549: expected 20 fields, saw 28\\nSkipping line 1194937: expected 20 fields, saw 33\\nSkipping line 1373183: expected 20 fields, saw 21\\nSkipping line 1602898: expected 20 fields, saw 28\\nSkipping line 2536231: expected 20 fields, saw 29\\nSkipping line 2549013: expected 20 fields, saw 29\\n'\n"
     ]
    }
   ],
   "source": [
    "ic = pd.read_csv('/Volumes/TARDIS 1/work/fullmeta/newmeta/ic_monographs.tsv', \n",
    "                 sep = '\\t', low_memory = False, error_bad_lines=False)"
   ]
  },
  {
   "cell_type": "code",
   "execution_count": 30,
   "id": "aboriginal-frank",
   "metadata": {},
   "outputs": [
    {
     "data": {
      "text/html": [
       "<div>\n",
       "<style scoped>\n",
       "    .dataframe tbody tr th:only-of-type {\n",
       "        vertical-align: middle;\n",
       "    }\n",
       "\n",
       "    .dataframe tbody tr th {\n",
       "        vertical-align: top;\n",
       "    }\n",
       "\n",
       "    .dataframe thead th {\n",
       "        text-align: right;\n",
       "    }\n",
       "</style>\n",
       "<table border=\"1\" class=\"dataframe\">\n",
       "  <thead>\n",
       "    <tr style=\"text-align: right;\">\n",
       "      <th></th>\n",
       "      <th>docid</th>\n",
       "      <th>recordid</th>\n",
       "      <th>oclc</th>\n",
       "      <th>locnum</th>\n",
       "      <th>author</th>\n",
       "      <th>authordate</th>\n",
       "      <th>imprint</th>\n",
       "      <th>datetype</th>\n",
       "      <th>startdate</th>\n",
       "      <th>enddate</th>\n",
       "      <th>imprintdate</th>\n",
       "      <th>place</th>\n",
       "      <th>enumcron</th>\n",
       "      <th>materialtype</th>\n",
       "      <th>language</th>\n",
       "      <th>subjects</th>\n",
       "      <th>genres</th>\n",
       "      <th>geographics</th>\n",
       "      <th>contents</th>\n",
       "      <th>title</th>\n",
       "    </tr>\n",
       "  </thead>\n",
       "  <tbody>\n",
       "    <tr>\n",
       "      <th>0</th>\n",
       "      <td>mdp.39015000995467</td>\n",
       "      <td>5</td>\n",
       "      <td>75</td>\n",
       "      <td>QA935.A73 1969</td>\n",
       "      <td>Armenàkas, Anthony E.,</td>\n",
       "      <td>1924-</td>\n",
       "      <td>Oxford|New York|Pergamon Press|1969</td>\n",
       "      <td>s</td>\n",
       "      <td>1969</td>\n",
       "      <td></td>\n",
       "      <td>1969</td>\n",
       "      <td>enk</td>\n",
       "      <td>NaN</td>\n",
       "      <td>monograph</td>\n",
       "      <td>eng</td>\n",
       "      <td>Vibration|Elastic plates and shells|Tables|Cyl...</td>\n",
       "      <td>NotFiction</td>\n",
       "      <td>NaN</td>\n",
       "      <td>[1st ed.]</td>\n",
       "      <td>Free vibrations of circular cylindrical shells...</td>\n",
       "    </tr>\n",
       "    <tr>\n",
       "      <th>1</th>\n",
       "      <td>mdp.39015002382565</td>\n",
       "      <td>8</td>\n",
       "      <td>241</td>\n",
       "      <td>E185.M43</td>\n",
       "      <td>Meier, August,</td>\n",
       "      <td>1923-2003.</td>\n",
       "      <td>New York|Atheneum|1969.</td>\n",
       "      <td>s</td>\n",
       "      <td>1969</td>\n",
       "      <td></td>\n",
       "      <td>1969</td>\n",
       "      <td>nyu</td>\n",
       "      <td>v.1</td>\n",
       "      <td>monograph</td>\n",
       "      <td>eng</td>\n",
       "      <td>African Americans|History</td>\n",
       "      <td>NotFiction|Bibliographies</td>\n",
       "      <td>NaN</td>\n",
       "      <td>[1st ed.]|The origins of black Americans.--The...</td>\n",
       "      <td>The making of black America; | essays in Negro...</td>\n",
       "    </tr>\n",
       "    <tr>\n",
       "      <th>2</th>\n",
       "      <td>mdp.39015002379926</td>\n",
       "      <td>8</td>\n",
       "      <td>241</td>\n",
       "      <td>E185.M43</td>\n",
       "      <td>Meier, August,</td>\n",
       "      <td>1923-2003.</td>\n",
       "      <td>New York|Atheneum|1969.</td>\n",
       "      <td>s</td>\n",
       "      <td>1969</td>\n",
       "      <td></td>\n",
       "      <td>1969</td>\n",
       "      <td>nyu</td>\n",
       "      <td>v.2</td>\n",
       "      <td>monograph</td>\n",
       "      <td>eng</td>\n",
       "      <td>African Americans|History</td>\n",
       "      <td>NotFiction|Bibliographies</td>\n",
       "      <td>NaN</td>\n",
       "      <td>[1st ed.]|The origins of black Americans.--The...</td>\n",
       "      <td>The making of black America; | essays in Negro...</td>\n",
       "    </tr>\n",
       "    <tr>\n",
       "      <th>3</th>\n",
       "      <td>mdp.39015027252942</td>\n",
       "      <td>8</td>\n",
       "      <td>241</td>\n",
       "      <td>E185.M43</td>\n",
       "      <td>Meier, August,</td>\n",
       "      <td>1923-2003.</td>\n",
       "      <td>New York|Atheneum|1969.</td>\n",
       "      <td>s</td>\n",
       "      <td>1969</td>\n",
       "      <td></td>\n",
       "      <td>1969</td>\n",
       "      <td>nyu</td>\n",
       "      <td>v.1</td>\n",
       "      <td>monograph</td>\n",
       "      <td>eng</td>\n",
       "      <td>African Americans|History</td>\n",
       "      <td>NotFiction|Bibliographies</td>\n",
       "      <td>NaN</td>\n",
       "      <td>[1st ed.]|The origins of black Americans.--The...</td>\n",
       "      <td>The making of black America; | essays in Negro...</td>\n",
       "    </tr>\n",
       "    <tr>\n",
       "      <th>4</th>\n",
       "      <td>mdp.39015015207742</td>\n",
       "      <td>9</td>\n",
       "      <td>252</td>\n",
       "      <td>LAW</td>\n",
       "      <td>NaN</td>\n",
       "      <td>NaN</td>\n",
       "      <td>Madison|University of Wisconsin Press|1968.</td>\n",
       "      <td>s</td>\n",
       "      <td>1968</td>\n",
       "      <td></td>\n",
       "      <td>1968</td>\n",
       "      <td>wiu</td>\n",
       "      <td>NaN</td>\n",
       "      <td>monograph</td>\n",
       "      <td>eng</td>\n",
       "      <td>Africa|Law</td>\n",
       "      <td>NotFiction|Bibliographies</td>\n",
       "      <td>NaN</td>\n",
       "      <td>Law and economic developments in independent, ...</td>\n",
       "      <td>Africa and law; | developing legal systems in ...</td>\n",
       "    </tr>\n",
       "  </tbody>\n",
       "</table>\n",
       "</div>"
      ],
      "text/plain": [
       "                docid  recordid oclc          locnum                  author  \\\n",
       "0  mdp.39015000995467         5   75  QA935.A73 1969  Armenàkas, Anthony E.,   \n",
       "1  mdp.39015002382565         8  241        E185.M43          Meier, August,   \n",
       "2  mdp.39015002379926         8  241        E185.M43          Meier, August,   \n",
       "3  mdp.39015027252942         8  241        E185.M43          Meier, August,   \n",
       "4  mdp.39015015207742         9  252             LAW                     NaN   \n",
       "\n",
       "   authordate                                      imprint datetype startdate  \\\n",
       "0       1924-          Oxford|New York|Pergamon Press|1969        s      1969   \n",
       "1  1923-2003.                      New York|Atheneum|1969.        s      1969   \n",
       "2  1923-2003.                      New York|Atheneum|1969.        s      1969   \n",
       "3  1923-2003.                      New York|Atheneum|1969.        s      1969   \n",
       "4         NaN  Madison|University of Wisconsin Press|1968.        s      1968   \n",
       "\n",
       "  enddate imprintdate place enumcron materialtype language  \\\n",
       "0                1969   enk      NaN    monograph      eng   \n",
       "1                1969   nyu      v.1    monograph      eng   \n",
       "2                1969   nyu      v.2    monograph      eng   \n",
       "3                1969   nyu      v.1    monograph      eng   \n",
       "4                1968   wiu      NaN    monograph      eng   \n",
       "\n",
       "                                            subjects  \\\n",
       "0  Vibration|Elastic plates and shells|Tables|Cyl...   \n",
       "1                          African Americans|History   \n",
       "2                          African Americans|History   \n",
       "3                          African Americans|History   \n",
       "4                                         Africa|Law   \n",
       "\n",
       "                      genres geographics  \\\n",
       "0                 NotFiction         NaN   \n",
       "1  NotFiction|Bibliographies         NaN   \n",
       "2  NotFiction|Bibliographies         NaN   \n",
       "3  NotFiction|Bibliographies         NaN   \n",
       "4  NotFiction|Bibliographies         NaN   \n",
       "\n",
       "                                            contents  \\\n",
       "0                                          [1st ed.]   \n",
       "1  [1st ed.]|The origins of black Americans.--The...   \n",
       "2  [1st ed.]|The origins of black Americans.--The...   \n",
       "3  [1st ed.]|The origins of black Americans.--The...   \n",
       "4  Law and economic developments in independent, ...   \n",
       "\n",
       "                                               title  \n",
       "0  Free vibrations of circular cylindrical shells...  \n",
       "1  The making of black America; | essays in Negro...  \n",
       "2  The making of black America; | essays in Negro...  \n",
       "3  The making of black America; | essays in Negro...  \n",
       "4  Africa and law; | developing legal systems in ...  "
      ]
     },
     "execution_count": 30,
     "metadata": {},
     "output_type": "execute_result"
    }
   ],
   "source": [
    "ic.head()"
   ]
  },
  {
   "cell_type": "code",
   "execution_count": 32,
   "id": "geographic-refund",
   "metadata": {},
   "outputs": [],
   "source": [
    "ic['intdate'] = ic.imprintdate.map(integerize)"
   ]
  },
  {
   "cell_type": "code",
   "execution_count": 45,
   "id": "strange-subdivision",
   "metadata": {},
   "outputs": [
    {
     "name": "stdout",
     "output_type": "stream",
     "text": [
      "1930 8455 101938 0.0829\n",
      "1940 8203 103988 0.0789\n",
      "1950 11435 161134 0.071\n",
      "1960 14286 349811 0.0408\n",
      "1970 13471 447324 0.0301\n",
      "1980 13288 475431 0.0279\n",
      "1990 15576 462973 0.0336\n",
      "2000 13598 314461 0.0432\n"
     ]
    }
   ],
   "source": [
    "for decade in range(1930, 2010, 10):\n",
    "    ficcount = len(allfic.loc[(allfic.inferreddate >= decade) & (allfic.inferreddate < decade + 10), : ])\n",
    "    allcount = len(ic.loc[(ic.intdate >= decade) & (ic.intdate < decade + 10), : ])\n",
    "    \n",
    "    print(decade, ficcount, allcount, round(ficcount/allcount, 4))\n",
    "    \n",
    "    multiple = (1 - ficcount/allcount) / (ficcount/allcount) \n",
    "    multiple = multiple - 1\n",
    "    if multiple > 20:\n",
    "        multiple = 20.0\n",
    "    decademultiples.append((decade, round(multiple, 2)))\n",
    "    "
   ]
  },
  {
   "cell_type": "code",
   "execution_count": 46,
   "id": "meaningful-pound",
   "metadata": {},
   "outputs": [
    {
     "data": {
      "text/plain": [
       "[(1800, 9.5),\n",
       " (1810, 9.12),\n",
       " (1820, 6.55),\n",
       " (1830, 6.77),\n",
       " (1840, 7.64),\n",
       " (1850, 6.33),\n",
       " (1860, 6.75),\n",
       " (1870, 6.63),\n",
       " (1880, 6.24),\n",
       " (1890, 4.36),\n",
       " (1900, 5.57),\n",
       " (1910, 8.05),\n",
       " (1920, 8.0),\n",
       " (1930, 10.06),\n",
       " (1940, 10.68),\n",
       " (1950, 12.09),\n",
       " (1960, 20.0),\n",
       " (1970, 20.0),\n",
       " (1980, 20.0),\n",
       " (1990, 20.0),\n",
       " (2000, 20.0)]"
      ]
     },
     "execution_count": 46,
     "metadata": {},
     "output_type": "execute_result"
    }
   ],
   "source": [
    " decademultiples"
   ]
  },
  {
   "cell_type": "code",
   "execution_count": 57,
   "id": "emerging-publication",
   "metadata": {},
   "outputs": [],
   "source": [
    "decademultiply = dict()\n",
    "for k, v in decademultiples:\n",
    "    decademultiply[k] = v"
   ]
  },
  {
   "cell_type": "code",
   "execution_count": 60,
   "id": "creative-juvenile",
   "metadata": {},
   "outputs": [],
   "source": [
    "decademultiply[1790] = 10"
   ]
  },
  {
   "cell_type": "code",
   "execution_count": 74,
   "id": "sorted-utility",
   "metadata": {},
   "outputs": [
    {
     "name": "stdout",
     "output_type": "stream",
     "text": [
      "1790 1 10 7\n",
      "1800 129 1225 1161\n",
      "1810 130 1185 1108\n",
      "1820 130 851 782\n",
      "1830 130 880 805\n",
      "1840 130 993 932\n",
      "1850 130 822 740\n",
      "1860 130 877 828\n",
      "1870 130 861 812\n",
      "1880 130 811 756\n",
      "1890 130 566 512\n",
      "1900 130 724 651\n",
      "1910 130 1046 961\n",
      "1920 130 312 286\n",
      "1920 130 728 665\n",
      "1930 130 1307 1220\n",
      "1940 130 1388 1285\n",
      "1950 130 1571 1475\n",
      "1960 130 2600 2499\n",
      "1970 130 2600 2518\n",
      "1980 130 2600 2525\n",
      "1990 130 2600 2521\n",
      "2000 130 2600 2489\n"
     ]
    },
    {
     "data": {
      "text/plain": [
       "27538"
      ]
     },
     "execution_count": 74,
     "metadata": {},
     "output_type": "execute_result"
    }
   ],
   "source": [
    "fictionset = set(allfic.docid.tolist())\n",
    "\n",
    "pre23decs = []\n",
    "post23decs = []\n",
    "\n",
    "totallen = 0\n",
    "\n",
    "for decade in range(1790, 2010, 10):\n",
    "    ficcount = len(fiction.loc[(fiction.inferreddate >= decade) & (fiction.inferreddate < decade + 10), : ])\n",
    "    nonficcount = int(ficcount * decademultiply[decade])\n",
    "    \n",
    "    if decade < 1920:\n",
    "        nonfic = pre1923.loc[(pre1923.intdate >= decade) & (pre1923.intdate < decade + 10), : ].sample(nonficcount)\n",
    "        nonfic.drop(nonfic[nonfic.htid.isin(fictionset)].index, inplace = True)\n",
    "        pre23decs.append(nonfic)\n",
    "        print(decade, ficcount, nonficcount, len(nonfic))\n",
    "        totallen += len(nonfic)\n",
    "    \n",
    "    if decade > 1920:\n",
    "        nonfic = ic.loc[(ic.intdate >= decade) & (ic.intdate < decade + 10), : ].sample(nonficcount)\n",
    "        nonfic.drop(nonfic[nonfic.docid.isin(fictionset)].index, inplace = True)\n",
    "        post23decs.append(nonfic)\n",
    "        print(decade, ficcount, nonficcount, len(nonfic))\n",
    "        totallen += len(nonfic)\n",
    "    \n",
    "    if decade == 1920:\n",
    "        prenonficcount = int(.3 * nonficcount)\n",
    "        postnonficcount = nonficcount - prenonficcount\n",
    "        \n",
    "        nonfic = pre1923.loc[(pre1923.intdate >= decade) & (pre1923.intdate < decade + 10), : ].sample(prenonficcount)\n",
    "        nonfic.drop(nonfic[nonfic.htid.isin(fictionset)].index, inplace = True)\n",
    "        pre23decs.append(nonfic)\n",
    "        totallen += len(nonfic)\n",
    "        print(decade, ficcount, prenonficcount, len(nonfic))\n",
    "        \n",
    "        nonfic = ic.loc[(ic.intdate >= decade) & (ic.intdate < decade + 10), : ].sample(postnonficcount)\n",
    "        nonfic.drop(nonfic[nonfic.docid.isin(fictionset)].index, inplace = True)\n",
    "        post23decs.append(nonfic)\n",
    "        totallen += len(nonfic)\n",
    "        print(decade, ficcount, postnonficcount, len(nonfic))\n",
    "        \n",
    "totallen"
   ]
  },
  {
   "cell_type": "code",
   "execution_count": 75,
   "id": "specified-linux",
   "metadata": {},
   "outputs": [
    {
     "data": {
      "text/plain": [
       "(10341, 15)"
      ]
     },
     "execution_count": 75,
     "metadata": {},
     "output_type": "execute_result"
    }
   ],
   "source": [
    "pre23 = pd.concat(pre23decs)\n",
    "pre23.shape"
   ]
  },
  {
   "cell_type": "code",
   "execution_count": 76,
   "id": "brave-handbook",
   "metadata": {},
   "outputs": [
    {
     "data": {
      "text/plain": [
       "(17197, 21)"
      ]
     },
     "execution_count": 76,
     "metadata": {},
     "output_type": "execute_result"
    }
   ],
   "source": [
    "post23 = pd.concat(post23decs)\n",
    "post23.shape"
   ]
  },
  {
   "cell_type": "code",
   "execution_count": 77,
   "id": "recovered-sigma",
   "metadata": {},
   "outputs": [
    {
     "data": {
      "text/plain": [
       "Index(['htid', 'recordid', 'oclc', 'locnum', 'author', 'imprint', 'datetype',\n",
       "       'startdate', 'enddate', 'imprintdate', 'place', 'enumcron', 'subjects',\n",
       "       'title', 'intdate'],\n",
       "      dtype='object')"
      ]
     },
     "execution_count": 77,
     "metadata": {},
     "output_type": "execute_result"
    }
   ],
   "source": [
    "pre23.columns"
   ]
  },
  {
   "cell_type": "code",
   "execution_count": 78,
   "id": "specialized-guyana",
   "metadata": {},
   "outputs": [
    {
     "data": {
      "text/plain": [
       "Index(['docid', 'recordid', 'oclc', 'locnum', 'author', 'authordate',\n",
       "       'imprint', 'datetype', 'startdate', 'enddate', 'imprintdate', 'place',\n",
       "       'enumcron', 'materialtype', 'language', 'subjects', 'genres',\n",
       "       'geographics', 'contents', 'title', 'intdate'],\n",
       "      dtype='object')"
      ]
     },
     "execution_count": 78,
     "metadata": {},
     "output_type": "execute_result"
    }
   ],
   "source": [
    "post23.columns"
   ]
  },
  {
   "cell_type": "code",
   "execution_count": 79,
   "id": "solar-forestry",
   "metadata": {},
   "outputs": [
    {
     "data": {
      "text/plain": [
       "Index(['docid', 'author', 'realname', 'pseudonym', 'gender', 'nationality',\n",
       "       'authordate', 'inferreddate', 'firstpub', 'latestcomp',\n",
       "       'allcopiesofwork', 'copiesin25yrs', 'enumcron', 'imprint', 'genres',\n",
       "       'subjects', 'shorttitle', 'category', 'hathiadvent'],\n",
       "      dtype='object')"
      ]
     },
     "execution_count": 79,
     "metadata": {},
     "output_type": "execute_result"
    }
   ],
   "source": [
    "fiction.columns"
   ]
  },
  {
   "cell_type": "code",
   "execution_count": 80,
   "id": "comfortable-privilege",
   "metadata": {},
   "outputs": [],
   "source": [
    "pre23['docid'] = pre23.htid"
   ]
  },
  {
   "cell_type": "code",
   "execution_count": 81,
   "id": "interim-mouth",
   "metadata": {},
   "outputs": [],
   "source": [
    "fiction['title'] = fiction['shorttitle']"
   ]
  },
  {
   "cell_type": "code",
   "execution_count": 83,
   "id": "fuzzy-snapshot",
   "metadata": {},
   "outputs": [],
   "source": [
    "fiction['intdate'] = fiction['latestcomp']"
   ]
  },
  {
   "cell_type": "code",
   "execution_count": 84,
   "id": "sealed-howard",
   "metadata": {},
   "outputs": [],
   "source": [
    "fiction['locnum'] = 'fic'"
   ]
  },
  {
   "cell_type": "code",
   "execution_count": 85,
   "id": "every-series",
   "metadata": {},
   "outputs": [],
   "source": [
    "pre23['authordate'] = ''"
   ]
  },
  {
   "cell_type": "code",
   "execution_count": 86,
   "id": "lyric-donor",
   "metadata": {},
   "outputs": [],
   "source": [
    "pre23['genres'] = ''"
   ]
  },
  {
   "cell_type": "code",
   "execution_count": 89,
   "id": "balanced-conspiracy",
   "metadata": {},
   "outputs": [
    {
     "data": {
      "text/plain": [
       "longfiction     2021\n",
       "shortfiction     327\n",
       "notfiction       211\n",
       "juvenile         148\n",
       "poetry            18\n",
       "drama              5\n",
       "Name: category, dtype: int64"
      ]
     },
     "execution_count": 89,
     "metadata": {},
     "output_type": "execute_result"
    }
   ],
   "source": [
    "fiction.category.value_counts()"
   ]
  },
  {
   "cell_type": "code",
   "execution_count": 90,
   "id": "level-scheduling",
   "metadata": {},
   "outputs": [],
   "source": [
    "pre23['category'] = 'nonfic'\n",
    "post23['category'] = 'nonfic'"
   ]
  },
  {
   "cell_type": "code",
   "execution_count": 92,
   "id": "official-durham",
   "metadata": {},
   "outputs": [],
   "source": [
    "a = pre23.loc[ : , ['docid', 'category', 'author', 'title', 'locnum', 'intdate', 'enumcron', 'subjects', 'genres']]\n",
    "b = post23.loc[ : , ['docid', 'category', 'author', 'title', 'locnum', 'intdate', 'enumcron', 'subjects', 'genres']]\n",
    "c = fiction.loc[ : , ['docid', 'category', 'author', 'title', 'locnum', 'intdate', 'enumcron', 'subjects', 'genres']]"
   ]
  },
  {
   "cell_type": "code",
   "execution_count": 94,
   "id": "induced-scratch",
   "metadata": {},
   "outputs": [
    {
     "data": {
      "text/plain": [
       "(30268, 9)"
      ]
     },
     "execution_count": 94,
     "metadata": {},
     "output_type": "execute_result"
    }
   ],
   "source": [
    "labeled = pd.concat([a, b, c], axis = 0)\n",
    "labeled.shape"
   ]
  },
  {
   "cell_type": "code",
   "execution_count": 95,
   "id": "described-merchandise",
   "metadata": {},
   "outputs": [
    {
     "data": {
      "text/plain": [
       "nonfic          27538\n",
       "longfiction      2021\n",
       "shortfiction      327\n",
       "notfiction        211\n",
       "juvenile          148\n",
       "poetry             18\n",
       "drama               5\n",
       "Name: category, dtype: int64"
      ]
     },
     "execution_count": 95,
     "metadata": {},
     "output_type": "execute_result"
    }
   ],
   "source": [
    "labeled.category.value_counts()"
   ]
  },
  {
   "cell_type": "code",
   "execution_count": 96,
   "id": "departmental-tribune",
   "metadata": {},
   "outputs": [],
   "source": [
    "def make_actionable(cat):\n",
    "    if cat == 'nonfic':\n",
    "        return 'nonfic'\n",
    "    elif cat == 'notfiction':\n",
    "        return 'nonfic'\n",
    "    elif cat == 'poetry' or cat == 'drama':\n",
    "        return 'nonfic'\n",
    "    else:\n",
    "        return 'fiction'"
   ]
  },
  {
   "cell_type": "code",
   "execution_count": 97,
   "id": "reported-viking",
   "metadata": {},
   "outputs": [],
   "source": [
    "labeled['actioncat'] = labeled.category.map(make_actionable)"
   ]
  },
  {
   "cell_type": "code",
   "execution_count": 98,
   "id": "refined-amendment",
   "metadata": {},
   "outputs": [
    {
     "data": {
      "text/plain": [
       "nonfic     27772\n",
       "fiction     2496\n",
       "Name: actioncat, dtype: int64"
      ]
     },
     "execution_count": 98,
     "metadata": {},
     "output_type": "execute_result"
    }
   ],
   "source": [
    "labeled.actioncat.value_counts()"
   ]
  },
  {
   "cell_type": "code",
   "execution_count": 99,
   "id": "solved-groove",
   "metadata": {},
   "outputs": [],
   "source": [
    "labeled.to_csv('full_labeled_data.tsv', sep = '\\t', index = False)"
   ]
  },
  {
   "cell_type": "code",
   "execution_count": 113,
   "id": "gross-snowboard",
   "metadata": {},
   "outputs": [],
   "source": [
    "labeled.reset_index(inplace = True)"
   ]
  },
  {
   "cell_type": "code",
   "execution_count": 121,
   "id": "rising-loading",
   "metadata": {},
   "outputs": [],
   "source": [
    "testdata = labeled.sample(frac = .1)"
   ]
  },
  {
   "cell_type": "code",
   "execution_count": 122,
   "id": "separated-somerset",
   "metadata": {},
   "outputs": [
    {
     "data": {
      "text/plain": [
       "nonfic     2781\n",
       "fiction     246\n",
       "Name: actioncat, dtype: int64"
      ]
     },
     "execution_count": 122,
     "metadata": {},
     "output_type": "execute_result"
    }
   ],
   "source": [
    "testdata.actioncat.value_counts()"
   ]
  },
  {
   "cell_type": "code",
   "execution_count": 123,
   "id": "hired-purse",
   "metadata": {},
   "outputs": [],
   "source": [
    "traindata = labeled.drop(testdata.index)"
   ]
  },
  {
   "cell_type": "code",
   "execution_count": 124,
   "id": "running-metabolism",
   "metadata": {},
   "outputs": [],
   "source": [
    "testdata.to_csv('heldout_test_data.tsv', sep = '\\t', index = False)"
   ]
  },
  {
   "cell_type": "code",
   "execution_count": 125,
   "id": "current-ready",
   "metadata": {},
   "outputs": [],
   "source": [
    "traindata.to_csv('traindata.tsv', sep = '\\t', index = False)"
   ]
  },
  {
   "cell_type": "code",
   "execution_count": 126,
   "id": "neutral-messenger",
   "metadata": {},
   "outputs": [
    {
     "data": {
      "text/plain": [
       "(3027, 11)"
      ]
     },
     "execution_count": 126,
     "metadata": {},
     "output_type": "execute_result"
    }
   ],
   "source": [
    "testdata.shape"
   ]
  },
  {
   "cell_type": "code",
   "execution_count": 127,
   "id": "impressive-george",
   "metadata": {},
   "outputs": [
    {
     "data": {
      "text/plain": [
       "(27241, 11)"
      ]
     },
     "execution_count": 127,
     "metadata": {},
     "output_type": "execute_result"
    }
   ],
   "source": [
    "traindata.shape"
   ]
  },
  {
   "cell_type": "code",
   "execution_count": 128,
   "id": "shaped-plane",
   "metadata": {},
   "outputs": [
    {
     "data": {
      "text/plain": [
       "(30268, 11)"
      ]
     },
     "execution_count": 128,
     "metadata": {},
     "output_type": "execute_result"
    }
   ],
   "source": [
    "labeled.shape"
   ]
  },
  {
   "cell_type": "code",
   "execution_count": 129,
   "id": "collectible-monday",
   "metadata": {},
   "outputs": [
    {
     "data": {
      "text/plain": [
       "set()"
      ]
     },
     "execution_count": 129,
     "metadata": {},
     "output_type": "execute_result"
    }
   ],
   "source": [
    "set(traindata.index.tolist()).intersection(set(testdata.index.tolist()))"
   ]
  },
  {
   "cell_type": "code",
   "execution_count": null,
   "id": "plastic-catalog",
   "metadata": {},
   "outputs": [],
   "source": []
  }
 ],
 "metadata": {
  "kernelspec": {
   "display_name": "Python 3",
   "language": "python",
   "name": "python3"
  },
  "language_info": {
   "codemirror_mode": {
    "name": "ipython",
    "version": 3
   },
   "file_extension": ".py",
   "mimetype": "text/x-python",
   "name": "python",
   "nbconvert_exporter": "python",
   "pygments_lexer": "ipython3",
   "version": "3.7.6"
  }
 },
 "nbformat": 4,
 "nbformat_minor": 5
}
